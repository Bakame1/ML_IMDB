{
 "cells": [
  {
   "cell_type": "markdown",
   "id": "6b44ce39-46f0-446f-814c-c4e67251d04b",
   "metadata": {},
   "source": [
    "# Contextual Word Sentiment Classification\n",
    "\n",
    "This notebook implements a contextual word sentiment classification model using the IMDb dataset. \n",
    "The goal is to classify individual words as positive, negative, or neutral based on sentence-level sentiment labels, \n",
    "while incorporating the context of neighboring words.\n",
    "\n",
    "\n",
    "**Important**: At the end you should write a report of adequate size, which will probably mean at least half a page. In the report you should describe how you approached the task. You should describe:\n",
    "- Encountered difficulties (due to the method, e.g. \"not enough training samples to converge\", not technical like \"I could not install a package over pip\")\n",
    "- Steps taken to alleviate difficulties\n",
    "- General description of what you did, explain how you understood the task and what you did to solve it in general language, no code.\n",
    "- Potential limitations of your approach, what could be issues, how could this be hard on different data or with slightly different conditions\n",
    "- If you have an idea how this could be extended in an interesting way, describe it.\n"
   ]
  },
  {
   "cell_type": "code",
   "execution_count": 1,
   "id": "f99fb915-f1a3-4044-a2f5-b63b9e15ab72",
   "metadata": {},
   "outputs": [
    {
     "name": "stderr",
     "output_type": "stream",
     "text": [
      "[nltk_data] Downloading package punkt to\n",
      "[nltk_data]     C:\\Users\\MB\\AppData\\Roaming\\nltk_data...\n",
      "[nltk_data]   Package punkt is already up-to-date!\n"
     ]
    },
    {
     "data": {
      "text/plain": [
       "True"
      ]
     },
     "execution_count": 1,
     "metadata": {},
     "output_type": "execute_result"
    }
   ],
   "source": [
    "#Required Libraries\n",
    "import numpy as np\n",
    "import pandas as pd\n",
    "import torch\n",
    "import torch.nn as nn\n",
    "import torch.optim as optim\n",
    "from torch.utils.data import Dataset, DataLoader\n",
    "from sklearn.model_selection import train_test_split\n",
    "from sklearn.metrics import classification_report\n",
    "from nltk.tokenize import word_tokenize\n",
    "from collections import defaultdict\n",
    "from tqdm import tqdm\n",
    "import nltk\n",
    "\n",
    "nltk.download('punkt')"
   ]
  },
  {
   "cell_type": "code",
   "execution_count": null,
   "id": "e6c4b713-8e9f-4a23-9850-b8f5b8061015",
   "metadata": {},
   "outputs": [],
   "source": []
  },
  {
   "cell_type": "code",
   "execution_count": 4,
   "id": "7b3723c6-e6de-49da-8f1c-2889dea0240e",
   "metadata": {},
   "outputs": [],
   "source": [
    "import re\n",
    "import tensorflow as tf\n",
    "import matplotlib.pyplot as plt\n",
    "from nltk.corpus import stopwords\n",
    "from tensorflow.keras.models import Sequential\n",
    "from tensorflow.keras.preprocessing.text import Tokenizer\n",
    "from tensorflow.keras.layers import Activation,Dense, Dropout\n",
    "from tensorflow.keras.preprocessing.sequence import pad_sequences\n",
    "from tensorflow.keras.layers import Flatten,GlobalMaxPooling1D,Conv1D, Embedding, LSTM"
   ]
  },
  {
   "cell_type": "code",
   "execution_count": 6,
   "id": "4ab95678-c6fc-4ca2-a7fd-b1963472a75b",
   "metadata": {},
   "outputs": [],
   "source": [
    "#!pip install torchtext"
   ]
  },
  {
   "cell_type": "markdown",
   "id": "440abaf3-ce21-48a5-b413-47607fca3c3d",
   "metadata": {},
   "source": [
    "## TASK 1 : Load and preprocess the IMDb dataset"
   ]
  },
  {
   "cell_type": "markdown",
   "id": "2e4bf277-c6c9-4d17-a9d2-9f104f11cb0d",
   "metadata": {},
   "source": [
    "#### IMDb dataset can be loaded from torchtext or manually via pandas. In our case we decided to load it from a CSV file throught a pandas DataFrame.\n",
    "#### About the CSV file : LINK : https://www.kaggle.com/datasets/lakshmi25npathi/imdb-dataset-of-50k-movie-reviews?resource=download\n",
    "IMDB dataset having 50K movie reviews for natural language processing or Text analytics.\r\n",
    "This is a dataset for binary sentiment classification containing substantially more data than previous benchmark datasets. We provide a set of 25,000 highly polar movie reviews for training and 25,000 for testing. So, predict the number of positive and negative reviews using either classification or deep learning algorithms\n",
    "#### Source : http://ai.stanford.edu/~amaas/papers/wvSent_acl2011.bib."
   ]
  },
  {
   "cell_type": "code",
   "execution_count": 10,
   "id": "f33287f5-d864-4b09-b0a0-fe077f9545a3",
   "metadata": {},
   "outputs": [
    {
     "name": "stdout",
     "output_type": "stream",
     "text": [
      "<class 'pandas.core.frame.DataFrame'>\n",
      "RangeIndex: 50000 entries, 0 to 49999\n",
      "Data columns (total 2 columns):\n",
      " #   Column     Non-Null Count  Dtype \n",
      "---  ------     --------------  ----- \n",
      " 0   review     50000 non-null  object\n",
      " 1   sentiment  50000 non-null  object\n",
      "dtypes: object(2)\n",
      "memory usage: 781.4+ KB\n"
     ]
    },
    {
     "data": {
      "image/png": "[encoded data removed]",
      "text/plain": [
       "<Figure size 640x480 with 1 Axes>"
      ]
     },
     "metadata": {},
     "output_type": "display_data"
    },
    {
     "data": {
      "text/plain": [
       "'I thought this was a wonderful way to spend time on a too hot summer weekend, sitting in the air conditioned theater and watching a light-hearted comedy. The plot is simplistic, but the dialogue is witty and the characters are likable (even the well bread suspected serial killer). While some may be disappointed when they realize this is not Match Point 2: Risk Addiction, I thought it was proof that Woody Allen is still fully in control of the style many of us have grown to love.<br /><br />This was the most I\\'d laughed at one of Woody\\'s comedies in years (dare I say a decade?). While I\\'ve never been impressed with Scarlet Johanson, in this she managed to tone down her \"sexy\" image and jumped right into a average, but spirited young woman.<br /><br />This may not be the crown jewel of his career, but it was wittier than \"Devil Wears Prada\" and more interesting than \"Superman\" a great comedy to go see with friends.'"
      ]
     },
     "execution_count": 10,
     "metadata": {},
     "output_type": "execute_result"
    }
   ],
   "source": [
    "import seaborn as sns\n",
    "import matplotlib.pyplot as plt\n",
    "\n",
    "###################DISPLAY PART EXAMPLES ################################\n",
    "#Load data from a CSV file named \"IMDB Dataset.csv\" into a pandas DataFrame\n",
    "df = pd.read_csv(\"IMDB Dataset.csv\")\n",
    "\n",
    "#Display the first five rows of the DataFrame to get an initial look at the data\n",
    "df.head()\n",
    "\n",
    "#Display a concise summary of the DataFrame, including the data types of each column and the number of non-null entries\n",
    "df.info()\n",
    "\n",
    "#Total number of missing values per column\n",
    "df.isnull().sum()\n",
    "\n",
    "#Set the style of the plots to 'ggplot', which is a style that mimics the R ggplot2 package\n",
    "plt.style.use(\"ggplot\")\n",
    "\n",
    "#Use seaborn to create a count plot that shows the distribution of the 'sentiment' column in the DataFrame\n",
    "sns.countplot(data = df, x = df[\"sentiment\"])\n",
    "plt.show()\n",
    "\n",
    "# Display the number of reviews for each sentiment category using value_counts()\n",
    "df[\"sentiment\"].value_counts()\n",
    "\n",
    "# Access the third review text in the 'review' column (note: indexing starts at 0, so this is actually the fourth review)\n",
    "df[\"review\"][2]"
   ]
  },
  {
   "cell_type": "code",
   "execution_count": 12,
   "id": "67f84693-ef16-4fcc-a3a9-fd90a5e15083",
   "metadata": {},
   "outputs": [
    {
     "name": "stdout",
     "output_type": "stream",
     "text": [
      "Original Text: This is a sample review. It's a great movie, http://example.com, you should check it out!\n",
      "Normalized Text: this is a sample review it s a great movie you should check it out\n",
      "No Punctuation Text: this is a sample review it s a great movie you should check it out\n",
      "No Stopwords Text: sample review great movie check\n",
      "Stemmed Text: sampl review great movi check\n"
     ]
    }
   ],
   "source": [
    "#Ensure that the necessary NLTK resources are downloaded\n",
    "#nltk.download('stopwords')\n",
    "#nltk.download('punkt')\n",
    "\n",
    "import string \n",
    "from nltk.stem import PorterStemmer\n",
    "\n",
    "# Function to remove stopwords from text\n",
    "def remove_stopwords(text):\n",
    "    stop_words = set(stopwords.words('english'))  # Using a set for faster lookup\n",
    "    words = text.split()\n",
    "    filtered_sentence = ' '.join([word for word in words if word not in stop_words])\n",
    "    return filtered_sentence\n",
    "\n",
    "# Function to normalize text by converting to lowercase, removing URLs, non-words, and extra spaces\n",
    "def normalize_text(text):\n",
    "    text = text.lower()  # Convert text to lowercase\n",
    "    # Remove URLs\n",
    "    text = re.sub(r'https?://\\S+|www\\.\\S+', '', text)  # r prefix for raw string to avoid escape issues\n",
    "    # Remove non-words and extra spaces\n",
    "    text = re.sub(r'\\W+', ' ', text)  # \\W matches any non-word character\n",
    "    text = re.sub(r'\\n', '', text)  # Remove newline characters\n",
    "    text = re.sub(r'\\s+', ' ', text)  # Replace multiple spaces with a single space\n",
    "    text = re.sub(r'^\\s+|\\s+$', '', text)  # Trim leading and trailing spaces\n",
    "    return text\n",
    "\n",
    "# Function to remove punctuation from text\n",
    "def remove_punctuation(text):\n",
    "    table = str.maketrans('', '', string.punctuation)  # Create a translation table for removing punctuation\n",
    "    return text.translate(table)\n",
    "\n",
    "# Function to perform stemming on text\n",
    "def stemming(text):\n",
    "    ps = PorterStemmer()  # Initialize the Porter Stemmer\n",
    "    words = text.split()\n",
    "    filtered_sentence = ' '.join([ps.stem(word) for word in words])\n",
    "    return filtered_sentence\n",
    "\n",
    "################# EXAMPLES ######################\n",
    "sample_text = \"This is a sample review. It's a great movie, http://example.com, you should check it out!\"\n",
    "print(\"Original Text:\", sample_text)\n",
    "\n",
    "# Normalize the text\n",
    "normalized_text = normalize_text(sample_text)\n",
    "print(\"Normalized Text:\", normalized_text)\n",
    "\n",
    "# Remove punctuation\n",
    "no_punctuation_text = remove_punctuation(normalized_text)\n",
    "print(\"No Punctuation Text:\", no_punctuation_text)\n",
    "\n",
    "# Remove stopwords\n",
    "no_stopwords_text = remove_stopwords(no_punctuation_text)\n",
    "print(\"No Stopwords Text:\", no_stopwords_text)\n",
    "\n",
    "# Perform stemming\n",
    "stemmed_text = stemming(no_stopwords_text)\n",
    "print(\"Stemmed Text:\", stemmed_text)"
   ]
  },
  {
   "cell_type": "code",
   "execution_count": 14,
   "id": "7612cbfc-672d-4ff5-9c4e-9ebebcc5d907",
   "metadata": {},
   "outputs": [],
   "source": [
    "from sklearn.preprocessing import OneHotEncoder\n",
    "X = df[\"review\"]\n",
    "y = df['sentiment']\n",
    "\n",
    "one = OneHotEncoder()\n",
    "y = one.fit_transform(np.asarray(y).reshape(-1,1)).toarray()\n",
    "X_train, X_test, y_train, y_test = train_test_split(X,y,test_size=0.2,random_state=42,shuffle=True)"
   ]
  },
  {
   "cell_type": "markdown",
   "id": "0e52f7e1-bab5-48ff-933f-d6fb99d56bad",
   "metadata": {},
   "source": [
    "## TASK 2 : Implement tokenization and label propagation"
   ]
  },
  {
   "cell_type": "markdown",
   "id": "e0f91ca3-dede-420a-b884-2d8372d764cd",
   "metadata": {},
   "source": [
    "#### Implement a function to calculate sentiment scores for each word based on sentence-level labels. \n",
    "#### The function should propagate labels to individual words and calculate a soft score for each word.\n"
   ]
  },
  {
   "cell_type": "code",
   "execution_count": 18,
   "id": "84585960-7a22-434c-b1b5-89dcf3229af3",
   "metadata": {},
   "outputs": [
    {
     "name": "stdout",
     "output_type": "stream",
     "text": [
      "Word Sentiment Scores:\n",
      "\n",
      "SCORE MEAN : \n",
      "Positive word  : 1\n",
      "Negative Word : 0 \n",
      "Cannot classify them(may delete them in the future)) : 0.5\n",
      "\n",
      "i: 0.5\n",
      "love: 1.0\n",
      "this: 0.5\n",
      "movie: 0.5\n",
      "hate: 0.0\n",
      "is: 0.5\n",
      "amazing: 1.0\n",
      "terrible: 0.0\n"
     ]
    }
   ],
   "source": [
    "import numpy as np\n",
    "from tensorflow.keras.preprocessing.text import Tokenizer\n",
    "from tensorflow.keras.preprocessing.sequence import pad_sequences\n",
    "\n",
    "# Example Sentences (X_train and X_test) and Labels (y_train)\n",
    "X_train = [\"I love this movie\", \"I hate this movie\", \"This movie is amazing\", \"This movie is terrible\"]\n",
    "y_train = [1, 0, 1, 0]  # 1 for positive sentiment, 0 for negative sentiment\n",
    "\n",
    "vocab_size = 10000\n",
    "max_length = 50\n",
    "oov_tok = '<OOV>'\n",
    "\n",
    "# Initialize the tokenizer\n",
    "tokenizer = Tokenizer(num_words=vocab_size, oov_token=oov_tok)\n",
    "tokenizer.fit_on_texts(X_train)\n",
    "\n",
    "# Tokenize the texts\n",
    "X_train_sequences = tokenizer.texts_to_sequences(X_train)\n",
    "X_train_padded = pad_sequences(X_train_sequences, maxlen=max_length, padding='post', truncating='post')\n",
    "\n",
    "# Create a dictionary to store sentiment scores for each word\n",
    "word_sentiment_scores = {}\n",
    "\n",
    "# Assign sentiment scores to words based on sentence labels\n",
    "for sentence, label in zip(X_train, y_train):\n",
    "    # Tokenize the sentence\n",
    "    words = tokenizer.texts_to_sequences([sentence])[0]\n",
    "    \n",
    "    # Calculate sentiment score for each word in the sentence\n",
    "    for word_index in words:\n",
    "        word = tokenizer.index_word.get(word_index)  # Get the word from the index\n",
    "        if word:\n",
    "            if word not in word_sentiment_scores:\n",
    "                word_sentiment_scores[word] = []\n",
    "            word_sentiment_scores[word].append(label)\n",
    "\n",
    "# Compute average sentiment score for each word\n",
    "for word in word_sentiment_scores:\n",
    "    sentiment_list = word_sentiment_scores[word]\n",
    "    # Calculate the soft score (average sentiment)\n",
    "    soft_score = np.mean(sentiment_list)\n",
    "    word_sentiment_scores[word] = soft_score\n",
    "\n",
    "# Display the sentiment scores for words\n",
    "print(\"Word Sentiment Scores:\\n\")\n",
    "print(\"SCORE MEAN : \\nPositive word  : 1\\nNegative Word : 0 \\nCannot classify them(may delete them in the future)) : 0.5\\n\")\n",
    "for word, score in word_sentiment_scores.items():\n",
    "    print(f\"{word}: {score}\")"
   ]
  },
  {
   "cell_type": "markdown",
   "id": "5f5e7800-9f2e-4e94-8e4b-e7cffa4bf55b",
   "metadata": {},
   "source": [
    "## Task 3: Prepare data for contextual learning"
   ]
  },
  {
   "cell_type": "markdown",
   "id": "c4c87931-a481-4c01-a606-5be9f1a8cc42",
   "metadata": {},
   "source": [
    "#### Implement a class to create a dataset with context windows. Each data point should include the word embedding for the target word, as well as an averaged embedding of the context words in a defined window size.\n"
   ]
  },
  {
   "cell_type": "code",
   "execution_count": 26,
   "id": "eca06a79-1b47-4fde-97a7-eeeec9304293",
   "metadata": {},
   "outputs": [
    {
     "name": "stdout",
     "output_type": "stream",
     "text": [
      "GloVe embeddings loaded successfully!\n",
      "Target Word Embedding Shape: (100,)\n",
      "Context Word Embedding Shape: (100,)\n"
     ]
    }
   ],
   "source": [
    "import numpy as np\n",
    "import requests\n",
    "import zipfile\n",
    "import io\n",
    "import pandas as pd\n",
    "\n",
    "# URL of the GloVe 6B 100D embeddings zip file\n",
    "url = \"https://nlp.stanford.edu/data/glove.6B.zip\"\n",
    "\n",
    "# Send a request to get the zip file from the URL\n",
    "response = requests.get(url)\n",
    "\n",
    "# If the request was successful, proceed\n",
    "if response.status_code == 200:\n",
    "    # Use io.BytesIO to handle the zip file in memory\n",
    "    with zipfile.ZipFile(io.BytesIO(response.content)) as zip_ref:\n",
    "        # Extract the specific file inside the zip\n",
    "        with zip_ref.open('glove.6B.100d.txt') as f:\n",
    "            # Load the embeddings into a dictionary\n",
    "            embedding_model = {}\n",
    "            for line in f:\n",
    "                # Decode each line\n",
    "                values = line.decode('utf-8').split()\n",
    "                word = values[0]\n",
    "                embedding_vector = np.array(values[1:], dtype='float32')\n",
    "                embedding_model[word] = embedding_vector\n",
    "\n",
    "            print(\"GloVe embeddings loaded successfully!\")\n",
    "else:\n",
    "    print(f\"Failed to download the GloVe file. Status code: {response.status_code}\")\n",
    "\n",
    "# Example dataframe (this would be your dataset)\n",
    "data = {'text': [\"I love machine learning\", \"Natural language processing is great\", \"I enjoy data science\"]}\n",
    "df = pd.DataFrame(data)\n",
    "\n",
    "# Example word sentiment scores (can be based on your sentiment analysis)\n",
    "word_scores = {'love': 1, 'machine': 0, 'learning': 0, 'natural': 1, 'language': 1, 'processing': 0, 'great': 1, 'enjoy': 1, 'data': 1, 'science': 1}\n",
    "\n",
    "# Class definition for WordContextDataset\n",
    "class WordContextDataset:\n",
    "    def __init__(self, df, word_scores, embedding_model, window_size=2):\n",
    "        self.df = df\n",
    "        self.word_scores = word_scores\n",
    "        self.embedding_model = embedding_model\n",
    "        self.window_size = window_size\n",
    "\n",
    "    def __len__(self):\n",
    "        return len(self.df)\n",
    "\n",
    "    def __getitem__(self, idx):\n",
    "        text = self.df.iloc[idx]['text']\n",
    "        words = text.split()\n",
    "        \n",
    "        # Iterate over words and create context windows\n",
    "        for i, target_word in enumerate(words):\n",
    "            # Check if the target word exists in the embedding model\n",
    "            if target_word in self.embedding_model:\n",
    "                target_embedding = self.embedding_model[target_word]\n",
    "                \n",
    "                # Find the context words within the window size\n",
    "                start = max(i - self.window_size, 0)\n",
    "                end = min(i + self.window_size + 1, len(words))\n",
    "                context_words = [words[j] for j in range(start, end) if j != i and words[j] in self.embedding_model]\n",
    "                \n",
    "                # Average the context word embeddings\n",
    "                context_embedding = np.mean([self.embedding_model[word] for word in context_words], axis=0) if context_words else np.zeros_like(target_embedding)\n",
    "                \n",
    "                return target_embedding, context_embedding\n",
    "\n",
    "# Create the dataset\n",
    "window_size = 2\n",
    "dataset = WordContextDataset(df, word_scores, embedding_model, window_size)\n",
    "\n",
    "# Example of accessing a data point\n",
    "target_embedding, context_embedding = dataset[0]\n",
    "print(\"Target Word Embedding Shape:\", target_embedding.shape)  # Should print (100,)\n",
    "print(\"Context Word Embedding Shape:\", context_embedding.shape)  # Should print (100,)"
   ]
  },
  {
   "cell_type": "markdown",
   "id": "b46030eb-634d-4e40-a583-0aa0c0d7b59d",
   "metadata": {},
   "source": [
    "### Task 4: Define and train the model\n",
    "#### Define a neural network for sentiment classification using PyTorch. The network should take an input vector of concatenated word and context embeddings."
   ]
  },
  {
   "cell_type": "code",
   "execution_count": 91,
   "id": "eaf77713-74e7-40c7-b50d-5f42dd28466b",
   "metadata": {},
   "outputs": [
    {
     "ename": "ValueError",
     "evalue": "Argument `validation_split` is only supported for tensors or NumPy arrays.Found incompatible type in the input: [<class 'str'>, <class 'str'>, <class 'str'>, <class 'str'>]",
     "output_type": "error",
     "traceback": [
      "\u001b[1;31m---------------------------------------------------------------------------\u001b[0m",
      "\u001b[1;31mValueError\u001b[0m                                Traceback (most recent call last)",
      "Cell \u001b[1;32mIn[91], line 25\u001b[0m\n\u001b[0;32m     22\u001b[0m y_train_encoded \u001b[38;5;241m=\u001b[39m label_encoder\u001b[38;5;241m.\u001b[39mfit_transform(y_train)\n\u001b[0;32m     24\u001b[0m \u001b[38;5;66;03m# Now y_train_encoded is numeric labels, which can be used for training\u001b[39;00m\n\u001b[1;32m---> 25\u001b[0m history \u001b[38;5;241m=\u001b[39m model\u001b[38;5;241m.\u001b[39mfit(X_train, y_train_encoded, epochs\u001b[38;5;241m=\u001b[39m\u001b[38;5;241m15\u001b[39m, batch_size\u001b[38;5;241m=\u001b[39mbatch_size, validation_split\u001b[38;5;241m=\u001b[39m\u001b[38;5;241m0.1\u001b[39m, callbacks\u001b[38;5;241m=\u001b[39m[early_stopping])\n",
      "File \u001b[1;32m~\\anaconda3\\Lib\\site-packages\\keras\\src\\utils\\traceback_utils.py:122\u001b[0m, in \u001b[0;36mfilter_traceback.<locals>.error_handler\u001b[1;34m(*args, **kwargs)\u001b[0m\n\u001b[0;32m    119\u001b[0m     filtered_tb \u001b[38;5;241m=\u001b[39m _process_traceback_frames(e\u001b[38;5;241m.\u001b[39m__traceback__)\n\u001b[0;32m    120\u001b[0m     \u001b[38;5;66;03m# To get the full stack trace, call:\u001b[39;00m\n\u001b[0;32m    121\u001b[0m     \u001b[38;5;66;03m# `keras.config.disable_traceback_filtering()`\u001b[39;00m\n\u001b[1;32m--> 122\u001b[0m     \u001b[38;5;28;01mraise\u001b[39;00m e\u001b[38;5;241m.\u001b[39mwith_traceback(filtered_tb) \u001b[38;5;28;01mfrom\u001b[39;00m \u001b[38;5;28;01mNone\u001b[39;00m\n\u001b[0;32m    123\u001b[0m \u001b[38;5;28;01mfinally\u001b[39;00m:\n\u001b[0;32m    124\u001b[0m     \u001b[38;5;28;01mdel\u001b[39;00m filtered_tb\n",
      "File \u001b[1;32m~\\anaconda3\\Lib\\site-packages\\keras\\src\\trainers\\data_adapters\\array_slicing.py:472\u001b[0m, in \u001b[0;36mtrain_validation_split\u001b[1;34m(arrays, validation_split)\u001b[0m\n\u001b[0;32m    470\u001b[0m unsplitable \u001b[38;5;241m=\u001b[39m [\u001b[38;5;28mtype\u001b[39m(t) \u001b[38;5;28;01mfor\u001b[39;00m t \u001b[38;5;129;01min\u001b[39;00m flat_arrays \u001b[38;5;28;01mif\u001b[39;00m \u001b[38;5;129;01mnot\u001b[39;00m can_slice_array(t)]\n\u001b[0;32m    471\u001b[0m \u001b[38;5;28;01mif\u001b[39;00m unsplitable:\n\u001b[1;32m--> 472\u001b[0m     \u001b[38;5;28;01mraise\u001b[39;00m \u001b[38;5;167;01mValueError\u001b[39;00m(\n\u001b[0;32m    473\u001b[0m         \u001b[38;5;124m\"\u001b[39m\u001b[38;5;124mArgument `validation_split` is only supported \u001b[39m\u001b[38;5;124m\"\u001b[39m\n\u001b[0;32m    474\u001b[0m         \u001b[38;5;124m\"\u001b[39m\u001b[38;5;124mfor tensors or NumPy arrays.\u001b[39m\u001b[38;5;124m\"\u001b[39m\n\u001b[0;32m    475\u001b[0m         \u001b[38;5;124mf\u001b[39m\u001b[38;5;124m\"\u001b[39m\u001b[38;5;124mFound incompatible type in the input: \u001b[39m\u001b[38;5;132;01m{\u001b[39;00munsplitable\u001b[38;5;132;01m}\u001b[39;00m\u001b[38;5;124m\"\u001b[39m\n\u001b[0;32m    476\u001b[0m     )\n\u001b[0;32m    478\u001b[0m \u001b[38;5;28;01mif\u001b[39;00m \u001b[38;5;28mall\u001b[39m(t \u001b[38;5;129;01mis\u001b[39;00m \u001b[38;5;28;01mNone\u001b[39;00m \u001b[38;5;28;01mfor\u001b[39;00m t \u001b[38;5;129;01min\u001b[39;00m flat_arrays):\n\u001b[0;32m    479\u001b[0m     \u001b[38;5;28;01mreturn\u001b[39;00m arrays, arrays\n",
      "\u001b[1;31mValueError\u001b[0m: Argument `validation_split` is only supported for tensors or NumPy arrays.Found incompatible type in the input: [<class 'str'>, <class 'str'>, <class 'str'>, <class 'str'>]"
     ]
    }
   ],
   "source": [
    "def build_model():\n",
    "    model = Sequential()\n",
    "    model.add(Embedding(vocab_size, 64, input_length=max_length))\n",
    "    model.add(LSTM(64, return_sequences=True))\n",
    "    model.add(Dropout(0.2)) # Add dropout regularization\n",
    "    model.add(LSTM(32, return_sequences=True))\n",
    "    model.add(Dense(32, activation='relu'))\n",
    "    model.add(Dropout(0.2)) # Add dropout regularization\n",
    "    model.add(LSTM(32))\n",
    "    model.add(Dense(32, activation='relu'))\n",
    "    model.add(Dropout(0.2)) # Add dropout regularization\n",
    "    model.add(Dense(2, activation='softmax'))\n",
    "    model.compile(loss='categorical_crossentropy', optimizer='adam', metrics=['accuracy'])\n",
    "    early_stopping = EarlyStopping(monitor='val_loss', patience=3) # Apply early stop\n",
    "    return model, early_stopping\n",
    "\n",
    "\n",
    "from sklearn.preprocessing import LabelEncoder\n",
    "\n",
    "# Assuming y_train are string category labels\n",
    "label_encoder = LabelEncoder()\n",
    "y_train_encoded = label_encoder.fit_transform(y_train)\n",
    "\n",
    "# Now y_train_encoded is numeric labels, which can be used for training\n",
    "history = model.fit(X_train, y_train_encoded, epochs=15, batch_size=batch_size, validation_split=0.1, callbacks=[early_stopping])"
   ]
  },
  {
   "cell_type": "code",
   "execution_count": 64,
   "id": "29d625da-c09a-443b-8c2c-795e01d750d4",
   "metadata": {},
   "outputs": [],
   "source": [
    "# Example:\n",
    "# class SentimentClassifier(nn.Module):\n",
    "#     def __init__(self, input_dim):\n",
    "#         super(SentimentClassifier, self).__init__()\n",
    "#         # Your code here\n",
    "    \n",
    "#     def forward(self, x):\n",
    "#         # Your code here\n",
    "#         pass\n",
    "\n",
    "# Implement a training loop to train the model on the dataset created."
   ]
  },
  {
   "cell_type": "code",
   "execution_count": null,
   "id": "7beed1f0-9b85-4121-801f-b8217996f87f",
   "metadata": {},
   "outputs": [],
   "source": [
    "# Task 5: Evaluate the model\n",
    "# Evaluate the trained model on a validation set.\n",
    "# Use metrics such as precision, recall, and F1-score."
   ]
  },
  {
   "cell_type": "code",
   "execution_count": null,
   "id": "df935c85-b28c-4b88-9d14-9104095272d9",
   "metadata": {},
   "outputs": [],
   "source": [
    "# Example code to evaluate the model:\n",
    "# with torch.no_grad():\n",
    "#     # Predict on validation data and calculate metrics\n",
    "#     pass\n",
    "\n",
    "# Optional: Experiment with hyperparameters or model architecture to improve performance.\n",
    "# Examples: Try different window sizes, embedding dimensions, or additional layers in the model."
   ]
  }
 ],
 "metadata": {
  "kernelspec": {
   "display_name": "Python 3 (ipykernel)",
   "language": "python",
   "name": "python3"
  },
  "language_info": {
   "codemirror_mode": {
    "name": "ipython",
    "version": 3
   },
   "file_extension": ".py",
   "mimetype": "text/x-python",
   "name": "python",
   "nbconvert_exporter": "python",
   "pygments_lexer": "ipython3",
   "version": "3.12.4"
  }
 },
 "nbformat": 4,
 "nbformat_minor": 5
}
