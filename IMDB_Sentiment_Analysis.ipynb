{
 "cells": [
  {
   "cell_type": "markdown",
   "id": "6b44ce39-46f0-446f-814c-c4e67251d04b",
   "metadata": {},
   "source": [
    "# Contextual Word Sentiment Classification\n",
    "\n",
    "This notebook implements a contextual word sentiment classification model using the IMDb dataset. \n",
    "The goal is to classify individual words as positive, negative, or neutral based on sentence-level sentiment labels, \n",
    "while incorporating the context of neighboring words.\n",
    "\n",
    "\n",
    "**Important**: At the end you should write a report of adequate size, which will probably mean at least half a page. In the report you should describe how you approached the task. You should describe:\n",
    "- Encountered difficulties (due to the method, e.g. \"not enough training samples to converge\", not technical like \"I could not install a package over pip\")\n",
    "- Steps taken to alleviate difficulties\n",
    "- General description of what you did, explain how you understood the task and what you did to solve it in general language, no code.\n",
    "- Potential limitations of your approach, what could be issues, how could this be hard on different data or with slightly different conditions\n",
    "- If you have an idea how this could be extended in an interesting way, describe it.\n"
   ]
  },
  {
   "cell_type": "code",
   "execution_count": 3,
   "id": "f99fb915-f1a3-4044-a2f5-b63b9e15ab72",
   "metadata": {},
   "outputs": [],
   "source": [
    "#Required Libraries\n",
    "import numpy as np\n",
    "import pandas as pd\n",
    "import torch\n",
    "import torch.nn as nn\n",
    "import torch.optim as optim\n",
    "from torch.utils.data import Dataset, DataLoader\n",
    "from sklearn.model_selection import train_test_split\n",
    "from sklearn.metrics import classification_report\n",
    "from nltk.tokenize import word_tokenize\n",
    "from collections import defaultdict\n",
    "from tqdm import tqdm\n",
    "import nltk"
   ]
  },
  {
   "cell_type": "code",
   "execution_count": 5,
   "id": "e6c4b713-8e9f-4a23-9850-b8f5b8061015",
   "metadata": {},
   "outputs": [
    {
     "name": "stderr",
     "output_type": "stream",
     "text": [
      "[nltk_data] Downloading package punkt to\n",
      "[nltk_data]     C:\\Users\\MB\\AppData\\Roaming\\nltk_data...\n",
      "[nltk_data]   Package punkt is already up-to-date!\n"
     ]
    },
    {
     "data": {
      "text/plain": [
       "True"
      ]
     },
     "execution_count": 5,
     "metadata": {},
     "output_type": "execute_result"
    }
   ],
   "source": [
    "nltk.download('punkt')"
   ]
  },
  {
   "cell_type": "code",
   "execution_count": 7,
   "id": "7b3723c6-e6de-49da-8f1c-2889dea0240e",
   "metadata": {},
   "outputs": [],
   "source": [
    "import re\n",
    "import tensorflow as tf\n",
    "import matplotlib.pyplot as plt\n",
    "from nltk.corpus import stopwords\n",
    "from tensorflow.keras.models import Sequential\n",
    "from tensorflow.keras.preprocessing.text import Tokenizer\n",
    "from tensorflow.keras.layers import Activation,Dense, Dropout\n",
    "from tensorflow.keras.preprocessing.sequence import pad_sequences\n",
    "from tensorflow.keras.layers import Flatten,GlobalMaxPooling1D,Conv1D, Embedding, LSTM"
   ]
  },
  {
   "cell_type": "code",
   "execution_count": 7,
   "id": "4ab95678-c6fc-4ca2-a7fd-b1963472a75b",
   "metadata": {},
   "outputs": [],
   "source": [
    "#!pip install torchtext"
   ]
  },
  {
   "cell_type": "markdown",
   "id": "440abaf3-ce21-48a5-b413-47607fca3c3d",
   "metadata": {},
   "source": [
    "## TASK 1 : Load and preprocess the IMDb dataset"
   ]
  },
  {
   "cell_type": "markdown",
   "id": "2e4bf277-c6c9-4d17-a9d2-9f104f11cb0d",
   "metadata": {},
   "source": [
    "#### IMDb dataset can be loaded from torchtext or manually via pandas. In our case we decided to load it from a CSV file throught a pandas DataFrame.\n",
    "#### About the CSV file : LINK : https://www.kaggle.com/datasets/lakshmi25npathi/imdb-dataset-of-50k-movie-reviews?resource=download\n",
    "IMDB dataset having 50K movie reviews for natural language processing or Text analytics.\r\n",
    "This is a dataset for binary sentiment classification containing substantially more data than previous benchmark datasets. We provide a set of 25,000 highly polar movie reviews for training and 25,000 for testing. So, predict the number of positive and negative reviews using either classification or deep learning algorithms\n",
    "#### Source : http://ai.stanford.edu/~amaas/papers/wvSent_acl2011.bib."
   ]
  },
  {
   "cell_type": "code",
   "execution_count": 11,
   "id": "f33287f5-d864-4b09-b0a0-fe077f9545a3",
   "metadata": {},
   "outputs": [
    {
     "name": "stdout",
     "output_type": "stream",
     "text": [
      "<class 'pandas.core.frame.DataFrame'>\n",
      "RangeIndex: 50000 entries, 0 to 49999\n",
      "Data columns (total 2 columns):\n",
      " #   Column     Non-Null Count  Dtype \n",
      "---  ------     --------------  ----- \n",
      " 0   review     50000 non-null  object\n",
      " 1   sentiment  50000 non-null  object\n",
      "dtypes: object(2)\n",
      "memory usage: 781.4+ KB\n"
     ]
    },
    {
     "data": {
      "image/png": "[encoded data removed]",
      "text/plain": [
       "<Figure size 640x480 with 1 Axes>"
      ]
     },
     "metadata": {},
     "output_type": "display_data"
    },
    {
     "data": {
      "text/plain": [
       "'I thought this was a wonderful way to spend time on a too hot summer weekend, sitting in the air conditioned theater and watching a light-hearted comedy. The plot is simplistic, but the dialogue is witty and the characters are likable (even the well bread suspected serial killer). While some may be disappointed when they realize this is not Match Point 2: Risk Addiction, I thought it was proof that Woody Allen is still fully in control of the style many of us have grown to love.<br /><br />This was the most I\\'d laughed at one of Woody\\'s comedies in years (dare I say a decade?). While I\\'ve never been impressed with Scarlet Johanson, in this she managed to tone down her \"sexy\" image and jumped right into a average, but spirited young woman.<br /><br />This may not be the crown jewel of his career, but it was wittier than \"Devil Wears Prada\" and more interesting than \"Superman\" a great comedy to go see with friends.'"
      ]
     },
     "execution_count": 11,
     "metadata": {},
     "output_type": "execute_result"
    }
   ],
   "source": [
    "import seaborn as sns\n",
    "import matplotlib.pyplot as plt\n",
    "\n",
    "###################DISPLAY PART EXAMPLES ################################\n",
    "#Load data from a CSV file named \"IMDB Dataset.csv\" into a pandas DataFrame\n",
    "df = pd.read_csv(\"IMDB Dataset.csv\")\n",
    "\n",
    "#Display the first five rows of the DataFrame to get an initial look at the data\n",
    "df.head()\n",
    "\n",
    "#Display a concise summary of the DataFrame, including the data types of each column and the number of non-null entries\n",
    "df.info()\n",
    "\n",
    "#Total number of missing values per column\n",
    "df.isnull().sum()\n",
    "\n",
    "#Set the style of the plots to 'ggplot', which is a style that mimics the R ggplot2 package\n",
    "plt.style.use(\"ggplot\")\n",
    "\n",
    "#Use seaborn to create a count plot that shows the distribution of the 'sentiment' column in the DataFrame\n",
    "sns.countplot(data = df, x = df[\"sentiment\"])\n",
    "plt.show()\n",
    "\n",
    "# Display the number of reviews for each sentiment category using value_counts()\n",
    "df[\"sentiment\"].value_counts()\n",
    "\n",
    "# Access the third review text in the 'review' column (note: indexing starts at 0, so this is actually the fourth review)\n",
    "df[\"review\"][2]"
   ]
  },
  {
   "cell_type": "code",
   "execution_count": 13,
   "id": "67f84693-ef16-4fcc-a3a9-fd90a5e15083",
   "metadata": {},
   "outputs": [
    {
     "name": "stdout",
     "output_type": "stream",
     "text": [
      "Original Text: This is a sample review. It's a great movie, http://example.com, you should check it out!\n",
      "Normalized Text: this is a sample review it s a great movie you should check it out\n",
      "No Punctuation Text: this is a sample review it s a great movie you should check it out\n",
      "No Stopwords Text: sample review great movie check\n",
      "Stemmed Text: sampl review great movi check\n"
     ]
    }
   ],
   "source": [
    "#Ensure that the necessary NLTK resources are downloaded\n",
    "#nltk.download('stopwords')\n",
    "#nltk.download('punkt')\n",
    "\n",
    "import string \n",
    "from nltk.stem import PorterStemmer\n",
    "\n",
    "# Function to remove stopwords from text\n",
    "def remove_stopwords(text):\n",
    "    stop_words = set(stopwords.words('english'))  # Using a set for faster lookup\n",
    "    words = text.split()\n",
    "    filtered_sentence = ' '.join([word for word in words if word not in stop_words])\n",
    "    return filtered_sentence\n",
    "\n",
    "# Function to normalize text by converting to lowercase, removing URLs, non-words, and extra spaces\n",
    "def normalize_text(text):\n",
    "    text = text.lower()  # Convert text to lowercase\n",
    "    # Remove URLs\n",
    "    text = re.sub(r'https?://\\S+|www\\.\\S+', '', text)  # r prefix for raw string to avoid escape issues\n",
    "    # Remove non-words and extra spaces\n",
    "    text = re.sub(r'\\W+', ' ', text)  # \\W matches any non-word character\n",
    "    text = re.sub(r'\\n', '', text)  # Remove newline characters\n",
    "    text = re.sub(r'\\s+', ' ', text)  # Replace multiple spaces with a single space\n",
    "    text = re.sub(r'^\\s+|\\s+$', '', text)  # Trim leading and trailing spaces\n",
    "    return text\n",
    "\n",
    "# Function to remove punctuation from text\n",
    "def remove_punctuation(text):\n",
    "    table = str.maketrans('', '', string.punctuation)  # Create a translation table for removing punctuation\n",
    "    return text.translate(table)\n",
    "\n",
    "# Function to perform stemming on text\n",
    "def stemming(text):\n",
    "    ps = PorterStemmer()  # Initialize the Porter Stemmer\n",
    "    words = text.split()\n",
    "    filtered_sentence = ' '.join([ps.stem(word) for word in words])\n",
    "    return filtered_sentence\n",
    "\n",
    "################# EXAMPLES ######################\n",
    "sample_text = \"This is a sample review. It's a great movie, http://example.com, you should check it out!\"\n",
    "print(\"Original Text:\", sample_text)\n",
    "\n",
    "# Normalize the text\n",
    "normalized_text = normalize_text(sample_text)\n",
    "print(\"Normalized Text:\", normalized_text)\n",
    "\n",
    "# Remove punctuation\n",
    "no_punctuation_text = remove_punctuation(normalized_text)\n",
    "print(\"No Punctuation Text:\", no_punctuation_text)\n",
    "\n",
    "# Remove stopwords\n",
    "no_stopwords_text = remove_stopwords(no_punctuation_text)\n",
    "print(\"No Stopwords Text:\", no_stopwords_text)\n",
    "\n",
    "# Perform stemming\n",
    "stemmed_text = stemming(no_stopwords_text)\n",
    "print(\"Stemmed Text:\", stemmed_text)"
   ]
  },
  {
   "cell_type": "code",
   "execution_count": 15,
   "id": "7612cbfc-672d-4ff5-9c4e-9ebebcc5d907",
   "metadata": {},
   "outputs": [],
   "source": [
    "from sklearn.preprocessing import OneHotEncoder\n",
    "X = df[\"review\"]\n",
    "y = df['sentiment']\n",
    "\n",
    "one = OneHotEncoder()\n",
    "y = one.fit_transform(np.asarray(y).reshape(-1,1)).toarray()\n",
    "X_train, X_test, y_train, y_test = train_test_split(X,y,test_size=0.2,random_state=42,shuffle=True)"
   ]
  },
  {
   "cell_type": "markdown",
   "id": "0e52f7e1-bab5-48ff-933f-d6fb99d56bad",
   "metadata": {},
   "source": [
    "## TASK 2 : Implement tokenization and label propagation"
   ]
  },
  {
   "cell_type": "markdown",
   "id": "e0f91ca3-dede-420a-b884-2d8372d764cd",
   "metadata": {},
   "source": [
    "#### Implement a function to calculate sentiment scores for each word based on sentence-level labels. \n",
    "#### The function should propagate labels to individual words and calculate a soft score for each word.\n"
   ]
  },
  {
   "cell_type": "code",
   "execution_count": 19,
   "id": "84585960-7a22-434c-b1b5-89dcf3229af3",
   "metadata": {},
   "outputs": [
    {
     "name": "stdout",
     "output_type": "stream",
     "text": [
      "Word Sentiment Scores:\n",
      "\n",
      "SCORE MEAN : \n",
      "Positive word  : 1\n",
      "Negative Word : 0 \n",
      "Cannot classify them(may delete them in the future)) : 0.5\n",
      "\n",
      "i: 0.5\n",
      "love: 1.0\n",
      "this: 0.5\n",
      "movie: 0.5\n",
      "hate: 0.0\n",
      "is: 0.5\n",
      "amazing: 1.0\n",
      "terrible: 0.0\n"
     ]
    }
   ],
   "source": [
    "import numpy as np\n",
    "from tensorflow.keras.preprocessing.text import Tokenizer\n",
    "from tensorflow.keras.preprocessing.sequence import pad_sequences\n",
    "\n",
    "# Example Sentences (X_train and X_test) and Labels (y_train)\n",
    "X_train = [\"I love this movie\", \"I hate this movie\", \"This movie is amazing\", \"This movie is terrible\"]\n",
    "y_train = [1, 0, 1, 0]  # 1 for positive sentiment, 0 for negative sentiment\n",
    "\n",
    "vocab_size = 10000\n",
    "max_length = 50\n",
    "oov_tok = '<OOV>'\n",
    "\n",
    "# Initialize the tokenizer\n",
    "tokenizer = Tokenizer(num_words=vocab_size, oov_token=oov_tok)\n",
    "tokenizer.fit_on_texts(X_train)\n",
    "\n",
    "# Tokenize the texts\n",
    "X_train_sequences = tokenizer.texts_to_sequences(X_train)\n",
    "X_train_padded = pad_sequences(X_train_sequences, maxlen=max_length, padding='post', truncating='post')\n",
    "\n",
    "# Create a dictionary to store sentiment scores for each word\n",
    "word_sentiment_scores = {}\n",
    "\n",
    "# Assign sentiment scores to words based on sentence labels\n",
    "for sentence, label in zip(X_train, y_train):\n",
    "    # Tokenize the sentence\n",
    "    words = tokenizer.texts_to_sequences([sentence])[0]\n",
    "    \n",
    "    # Calculate sentiment score for each word in the sentence\n",
    "    for word_index in words:\n",
    "        word = tokenizer.index_word.get(word_index)  # Get the word from the index\n",
    "        if word:\n",
    "            if word not in word_sentiment_scores:\n",
    "                word_sentiment_scores[word] = []\n",
    "            word_sentiment_scores[word].append(label)\n",
    "\n",
    "# Compute average sentiment score for each word\n",
    "for word in word_sentiment_scores:\n",
    "    sentiment_list = word_sentiment_scores[word]\n",
    "    # Calculate the soft score (average sentiment)\n",
    "    soft_score = np.mean(sentiment_list)\n",
    "    word_sentiment_scores[word] = soft_score\n",
    "\n",
    "# Display the sentiment scores for words\n",
    "print(\"Word Sentiment Scores:\\n\")\n",
    "print(\"SCORE MEAN : \\nPositive word  : 1\\nNegative Word : 0 \\nCannot classify them(may delete them in the future)) : 0.5\\n\")\n",
    "for word, score in word_sentiment_scores.items():\n",
    "    print(f\"{word}: {score}\")"
   ]
  },
  {
   "cell_type": "code",
   "execution_count": 342,
   "id": "171aeb39-8b82-45b9-9ca0-fe952d4e66b6",
   "metadata": {},
   "outputs": [
    {
     "ename": "TypeError",
     "evalue": "'builtin_function_or_method' object is not subscriptable",
     "output_type": "error",
     "traceback": [
      "\u001b[1;31m---------------------------------------------------------------------------\u001b[0m",
      "\u001b[1;31mTypeError\u001b[0m                                 Traceback (most recent call last)",
      "Cell \u001b[1;32mIn[342], line 1\u001b[0m\n\u001b[1;32m----> 1\u001b[0m \u001b[38;5;28mprint\u001b[39m(word_sentiment_scores\u001b[38;5;241m.\u001b[39mitems[word])\n",
      "\u001b[1;31mTypeError\u001b[0m: 'builtin_function_or_method' object is not subscriptable"
     ]
    }
   ],
   "source": [
    "print(word_sentiment_scores.items[word])"
   ]
  },
  {
   "cell_type": "markdown",
   "id": "5f5e7800-9f2e-4e94-8e4b-e7cffa4bf55b",
   "metadata": {},
   "source": [
    "## Task 3: Prepare data for contextual learning"
   ]
  },
  {
   "cell_type": "markdown",
   "id": "c4c87931-a481-4c01-a606-5be9f1a8cc42",
   "metadata": {},
   "source": [
    "#### Implement a class to create a dataset with context windows. Each data point should include the word embedding for the target word, as well as an averaged embedding of the context words in a defined window size.\n"
   ]
  },
  {
   "cell_type": "code",
   "execution_count": 23,
   "id": "eca06a79-1b47-4fde-97a7-eeeec9304293",
   "metadata": {},
   "outputs": [
    {
     "name": "stdout",
     "output_type": "stream",
     "text": [
      "GloVe embeddings loaded successfully!\n",
      "Target Word Embedding Shape: (100,)\n",
      "Context Word Embedding Shape: (100,)\n"
     ]
    }
   ],
   "source": [
    "import numpy as np\n",
    "import requests\n",
    "import zipfile\n",
    "import io\n",
    "import pandas as pd\n",
    "\n",
    "# URL of the GloVe 6B 100D embeddings zip file\n",
    "url = \"https://nlp.stanford.edu/data/glove.6B.zip\"\n",
    "\n",
    "# Send a request to get the zip file from the URL\n",
    "response = requests.get(url)\n",
    "\n",
    "# If the request was successful, proceed\n",
    "if response.status_code == 200:\n",
    "    # Use io.BytesIO to handle the zip file in memory\n",
    "    with zipfile.ZipFile(io.BytesIO(response.content)) as zip_ref:\n",
    "        # Extract the specific file inside the zip\n",
    "        with zip_ref.open('glove.6B.100d.txt') as f:\n",
    "            # Load the embeddings into a dictionary\n",
    "            embedding_model = {}\n",
    "            for line in f:\n",
    "                # Decode each line\n",
    "                values = line.decode('utf-8').split()\n",
    "                word = values[0]\n",
    "                embedding_vector = np.array(values[1:], dtype='float32')\n",
    "                embedding_model[word] = embedding_vector\n",
    "\n",
    "            print(\"GloVe embeddings loaded successfully!\")\n",
    "else:\n",
    "    print(f\"Failed to download the GloVe file. Status code: {response.status_code}\")\n",
    "\n",
    "# Example dataframe (this would be your dataset)\n",
    "data = {'text': [\"I love machine learning\", \"Natural language processing is great\", \"I enjoy data science\"]}\n",
    "df = pd.DataFrame(data)\n",
    "\n",
    "# Example word sentiment scores (can be based on your sentiment analysis)\n",
    "word_scores = {'love': 1, 'machine': 0, 'learning': 0, 'natural': 1, 'language': 1, 'processing': 0, 'great': 1, 'enjoy': 1, 'data': 1, 'science': 1}\n",
    "\n",
    "# Class definition for WordContextDataset\n",
    "class WordContextDataset:\n",
    "    def __init__(self, df, word_scores, embedding_model, window_size=2):\n",
    "        self.df = df\n",
    "        self.word_scores = word_scores\n",
    "        self.embedding_model = embedding_model\n",
    "        self.window_size = window_size\n",
    "\n",
    "    def __len__(self):\n",
    "        return len(self.df)\n",
    "\n",
    "    def __getitem__(self, idx):\n",
    "        text = self.df.iloc[idx]['text']\n",
    "        words = text.split()\n",
    "        \n",
    "        # Iterate over words and create context windows\n",
    "        for i, target_word in enumerate(words):\n",
    "            # Check if the target word exists in the embedding model\n",
    "            if target_word in self.embedding_model:\n",
    "                target_embedding = self.embedding_model[target_word]\n",
    "                \n",
    "                # Find the context words within the window size\n",
    "                start = max(i - self.window_size, 0)\n",
    "                end = min(i + self.window_size + 1, len(words))\n",
    "                context_words = [words[j] for j in range(start, end) if j != i and words[j] in self.embedding_model]\n",
    "                \n",
    "                # Average the context word embeddings\n",
    "                context_embedding = np.mean([self.embedding_model[word] for word in context_words], axis=0) if context_words else np.zeros_like(target_embedding)\n",
    "                \n",
    "                return target_embedding, context_embedding\n",
    "\n",
    "# Create the dataset\n",
    "window_size = 2\n",
    "dataset = WordContextDataset(df, word_scores, embedding_model, window_size)\n",
    "\n",
    "# Example of accessing a data point\n",
    "target_embedding, context_embedding = dataset[0]\n",
    "print(\"Target Word Embedding Shape:\", target_embedding.shape)  # Should print (100,)\n",
    "print(\"Context Word Embedding Shape:\", context_embedding.shape)  # Should print (100,)"
   ]
  },
  {
   "cell_type": "code",
   "execution_count": 44,
   "id": "486ca1c5-cca1-4b43-b162-3cc4ccd002fe",
   "metadata": {},
   "outputs": [
    {
     "name": "stdout",
     "output_type": "stream",
     "text": [
      "<__main__.WordContextDataset object at 0x0000020CBC3AF0E0>\n"
     ]
    }
   ],
   "source": [
    "len(dataset)\n",
    "print(dataset)"
   ]
  },
  {
   "cell_type": "markdown",
   "id": "b46030eb-634d-4e40-a583-0aa0c0d7b59d",
   "metadata": {},
   "source": [
    "### Task 4: Define and train the model\n",
    "#### Define a neural network for sentiment classification using PyTorch. The network should take an input vector of concatenated word and context embeddings."
   ]
  },
  {
   "cell_type": "code",
   "execution_count": 171,
   "id": "a528e192-3903-4a87-bfbc-9e38dae93660",
   "metadata": {},
   "outputs": [],
   "source": [
    "# Task 4: Define and train the model\n",
    "# Define a neural network for sentiment classification using PyTorch.\n",
    "# The network should take an input vector of concatenated word and context embeddings.\n",
    "\n",
    "import torch\n",
    "import torch.nn as nn\n",
    "import torch.optim as optim\n",
    "from torch.utils.data import DataLoader\n",
    "import numpy as np\n",
    "\n",
    "class SentimentClassifier(nn.Module):\n",
    "    def __init__(self, input_dim):\n",
    "        super(SentimentClassifier, self).__init__()\n",
    "        self.fc1 = nn.Linear(input_dim, 100)  # First fully connected layer\n",
    "        self.relu = nn.ReLU()  # ReLU activation\n",
    "        self.fc2 = nn.Linear(100, 100)  # Output layer (binary sentiment classification)\n",
    "        self.sigmoid = nn.Sigmoid()  # Sigmoid for binary classification\n",
    "\n",
    "    def forward(self, x):\n",
    "        x = self.fc1(x)\n",
    "        x = self.relu(x)\n",
    "        x = self.fc2(x)\n",
    "        x = self.sigmoid(x)\n",
    "        return x\n",
    "\n",
    "class WordContextDataset(torch.utils.data.Dataset):\n",
    "    def __init__(self, df, word_scores, embedding_model, window_size=2):\n",
    "        self.df = df\n",
    "        self.word_scores = word_scores\n",
    "        self.embedding_model = embedding_model\n",
    "        self.window_size = window_size\n",
    "\n",
    "    def __len__(self):\n",
    "        return len(self.df)\n",
    "   \n",
    "def __getitem__(self, idx):\n",
    "    text = self.df.iloc[idx]['text']\n",
    "    words = text.split()\n",
    "\n",
    "    target_embeddings = []\n",
    "    labels = []\n",
    "\n",
    "    for i, target_word in enumerate(words):\n",
    "        if target_word in self.embedding_model:\n",
    "            target_embedding = self.embedding_model[target_word]  # Shape: (100,)\n",
    "            context_embedding = np.zeros_like(target_embedding)  # Shape: (100,)\n",
    "\n",
    "            context_words = [words[j] for j in range(max(0, i - self.window_size), min(len(words), i + self.window_size + 1)) if j != i and words[j] in self.embedding_model]\n",
    "            if context_words:\n",
    "                context_embeddings = np.array([self.embedding_model[word] for word in context_words])  # Shape: (num_context_words, 100)\n",
    "                context_embedding = np.mean(context_embeddings, axis=0)  # Shape: (100,)\n",
    "\n",
    "            label = self.word_scores.get(target_word, 0)  # Default 0 if not in word_scores\n",
    "\n",
    "            embedding_vector = np.concatenate([target_embedding, context_embedding])  # Shape: (200,)\n",
    "            target_embeddings.append(embedding_vector)\n",
    "            labels.append(label)\n",
    "\n",
    "    if not target_embeddings:\n",
    "        return torch.zeros((1, 200)), torch.zeros((1, 1))  # Default for empty\n",
    "\n",
    "    target_embeddings = torch.tensor(np.array(target_embeddings), dtype=torch.float32)\n",
    "    labels = torch.tensor(np.array(labels), dtype=torch.float32).view(-1, 1)\n",
    "\n",
    "    return target_embeddings, labels\n",
    "\n",
    "\n"
   ]
  },
  {
   "cell_type": "code",
   "execution_count": 297,
   "id": "323527c1-b9ba-4560-9762-473a11efe03a",
   "metadata": {},
   "outputs": [
    {
     "name": "stdout",
     "output_type": "stream",
     "text": [
      "Epoch [1/10], Loss: 0.4773, Accuracy: 0.00%\n",
      "Epoch [2/10], Loss: 0.4773, Accuracy: 0.00%\n",
      "Epoch [3/10], Loss: 0.4773, Accuracy: 0.00%\n",
      "Epoch [4/10], Loss: 0.4773, Accuracy: 0.00%\n",
      "Epoch [5/10], Loss: 0.4773, Accuracy: 0.00%\n",
      "Epoch [6/10], Loss: 0.4773, Accuracy: 0.00%\n",
      "Epoch [7/10], Loss: 0.4773, Accuracy: 0.00%\n",
      "Epoch [8/10], Loss: 0.4773, Accuracy: 0.00%\n",
      "Epoch [9/10], Loss: 0.4773, Accuracy: 0.00%\n",
      "Epoch [10/10], Loss: 0.4773, Accuracy: 0.00%\n"
     ]
    }
   ],
   "source": [
    "input_dim = 200  # This should be the sum of the dimensions of your word and context embeddings\n",
    "\n",
    "model = SentimentClassifier(input_dim)\n",
    "\n",
    "# Create a DataLoader instance for your dataset\n",
    "batch_size = 1\n",
    "dataloader = DataLoader(dataset, batch_size=batch_size, shuffle=True,drop_last=True)\n",
    "loss_fn = torch.nn.MSELoss()\n",
    "epochs = 10\n",
    "for epoch in range(epochs):\n",
    "    model.train()\n",
    "    running_loss = 0.0\n",
    "    correct = 0\n",
    "    total = 0\n",
    "    \n",
    "    for target_embeddings, labels in dataloader:\n",
    "\n",
    "        optimizer.zero_grad()\n",
    "\n",
    "        outputs = model(torch.unsqueeze(torch.cat([target_embeddings[0],torch.tensor(context_embedding)]),dim=0))\n",
    "        loss = loss_fn(outputs, labels)\n",
    "        loss.backward()\n",
    "        optimizer.step()\n",
    "\n",
    "        running_loss += loss.item()\n",
    "        predicted = (outputs >= 0.5).float()\n",
    "        correct += (predicted == labels).sum().item()\n",
    "        total += labels.size(0)\n",
    "    \n",
    "    if total == 0:\n",
    "        print(\"No valid samples processed in epoch. Check data filtering and embedding dimensions.\")\n",
    "    else:\n",
    "        avg_loss = running_loss / len(dataloader)\n",
    "        accuracy = correct / total * 100\n",
    "        print(f\"Epoch [{epoch+1}/{epochs}], Loss: {avg_loss:.4f}, Accuracy: {accuracy:.2f}%\")"
   ]
  },
  {
   "cell_type": "code",
   "execution_count": 287,
   "id": "7c9cc0e7-94e9-4c28-b193-6137d996c803",
   "metadata": {},
   "outputs": [
    {
     "data": {
      "text/plain": [
       "tensor([[ 2.5975e-01,  5.5833e-01,  5.7986e-01, -2.1361e-01,  1.3084e-01,\n",
       "          9.4385e-01, -4.2817e-01, -3.7420e-01, -9.4499e-02, -4.3344e-01,\n",
       "         -2.0937e-01,  3.4702e-01,  8.2516e-02,  7.9735e-01,  1.6606e-01,\n",
       "         -2.6878e-01,  5.8830e-01,  6.7397e-01, -4.9965e-01,  1.4764e+00,\n",
       "          5.5261e-01,  2.5295e-02, -1.6068e-01, -1.3878e-01,  4.8686e-01,\n",
       "          1.1420e+00,  5.6195e-02, -7.3306e-01,  8.6932e-01, -3.5892e-01,\n",
       "         -5.1877e-01,  9.0402e-01,  4.9249e-01, -1.4915e-01,  4.8493e-02,\n",
       "          2.6096e-01,  1.1352e-01,  4.1275e-01,  5.3803e-01, -4.4950e-01,\n",
       "          8.5733e-02,  9.1184e-02,  5.0177e-03, -3.4645e-01, -1.1058e-01,\n",
       "         -2.2235e-01, -6.5290e-01, -5.1838e-02,  5.3791e-01, -8.1040e-01,\n",
       "         -1.8253e-01,  2.4194e-01,  5.4855e-01,  8.7731e-01,  2.2165e-01,\n",
       "         -2.7124e+00,  4.9405e-01,  4.4703e-01,  5.5882e-01,  2.6076e-01,\n",
       "          2.3760e-01,  1.0668e+00, -5.6971e-01, -6.4960e-01,  3.3511e-01,\n",
       "          3.4609e-01,  1.1033e+00,  8.5261e-02,  2.4847e-02, -4.5453e-01,\n",
       "          7.7012e-02,  2.1321e-01,  1.0444e-01,  6.7157e-02, -3.4261e-01,\n",
       "          8.5534e-01,  1.3361e-01, -4.3296e-01, -5.6726e-01, -2.1348e-01,\n",
       "         -3.3277e-01,  3.4351e-01,  3.2164e-01,  4.4527e-01, -1.3208e+00,\n",
       "         -1.3270e-01, -7.0820e-01, -4.8472e-01, -6.9396e-01, -2.6080e-01,\n",
       "         -4.7099e-01, -5.7492e-02,  9.3587e-02,  4.0006e-01, -4.3419e-01,\n",
       "         -2.7364e-01, -7.7017e-01, -8.4028e-01, -1.5620e-03,  6.2223e-01,\n",
       "         -2.7650e-03,  5.9649e-01, -3.3096e-01,  2.8456e-01, -1.2272e-01,\n",
       "          2.7970e-01,  3.5571e-01,  1.0608e-01,  2.9469e-01,  3.9728e-01,\n",
       "          1.5981e-01, -4.8243e-01,  3.5343e-02, -1.1424e-01,  2.5616e-01,\n",
       "         -6.0072e-02,  2.5134e-01,  2.7191e-01, -4.2963e-01,  2.5399e-01,\n",
       "         -4.1906e-01, -1.3424e-01,  1.7332e-01, -3.7442e-01, -1.0836e-01,\n",
       "          2.9090e-02, -1.6663e-01, -3.6320e-02, -2.2079e-01,  3.3805e-01,\n",
       "         -2.6669e-01,  8.6973e-01, -3.1351e-01, -2.4218e-01,  3.2380e-01,\n",
       "         -6.5730e-01, -2.7280e-01, -1.0429e-01,  6.1228e-01, -5.1671e-01,\n",
       "         -1.7637e-01, -4.2350e-02, -3.4505e-01, -1.6206e-01, -4.6755e-01,\n",
       "         -1.1611e-01, -4.5445e-02, -7.6835e-02,  4.2538e-02, -5.2233e-01,\n",
       "         -1.5221e-01,  5.9865e-02,  1.9416e-01,  9.4172e-01,  5.8777e-01,\n",
       "         -1.6865e+00,  2.3220e-01,  1.9922e-01,  1.2753e+00,  4.2872e-01,\n",
       "          4.4250e-01,  5.1717e-01, -1.7648e-01,  3.5891e-01, -1.2504e-01,\n",
       "          3.4848e-01,  1.9511e-01, -3.0681e-01,  1.7282e-01,  3.6222e-01,\n",
       "         -3.6937e-01,  9.3235e-02,  3.3196e-01, -2.6541e-01,  7.7930e-02,\n",
       "          4.1125e-01,  2.1115e-02,  7.8481e-03, -4.0120e-01, -7.5130e-02,\n",
       "          4.7400e-01,  1.8418e-01, -5.9826e-01,  6.3605e-03, -1.6152e+00,\n",
       "          6.0702e-01,  3.7050e-01, -7.3632e-01, -1.3930e-01, -1.8246e-01,\n",
       "          4.9770e-02,  2.1116e-01,  3.9715e-01,  7.0364e-01,  5.8695e-02,\n",
       "         -4.6452e-01, -1.5071e-01, -6.8875e-01,  1.0976e+00,  2.7253e-01]])"
      ]
     },
     "execution_count": 287,
     "metadata": {},
     "output_type": "execute_result"
    }
   ],
   "source": [
    "torch.unsqueeze(torch.cat([target_embeddings[0],torch.tensor(context_embedding)]),dim=0)"
   ]
  },
  {
   "cell_type": "code",
   "execution_count": 299,
   "id": "ab4fb592-b761-4ba7-bc80-b3a891e3abd9",
   "metadata": {},
   "outputs": [
    {
     "data": {
      "text/plain": [
       "tensor([[-0.3122,  0.5653,  0.4127, -0.1864,  0.3486, -0.4635, -0.1859,  0.5984,\n",
       "          0.2524,  0.1091, -0.1508, -0.2443,  0.1986,  0.0171,  0.1031, -0.0911,\n",
       "          0.5399,  0.0620,  0.4683,  0.2777, -0.3438,  0.1653,  0.3546,  0.0162,\n",
       "         -0.0231,  0.1783,  0.2668, -0.0809, -0.4016,  0.1789, -0.6087,  0.6251,\n",
       "         -0.0326, -0.1080,  0.3249, -0.0768,  0.0630,  0.0367,  0.0676, -0.8441,\n",
       "         -0.1399, -0.6493,  0.1035, -0.2465,  0.0601,  0.0466,  0.3758, -0.3718,\n",
       "         -0.0754, -0.3570,  0.2217, -0.4927,  0.1683,  1.1943, -0.4533, -1.5591,\n",
       "         -0.4643, -0.4954,  1.8850,  0.2510,  0.1794,  0.2626,  0.2081, -0.2362,\n",
       "          0.7154,  0.0278,  0.5407, -0.1194,  0.4990, -0.0771, -0.3130,  0.0344,\n",
       "          0.1003,  0.0170,  0.6875, -0.0035, -0.0857,  0.1669, -0.8301,  0.3244,\n",
       "          0.4908,  0.1497, -1.0322,  0.2345, -1.5461,  0.3266,  0.6923, -0.6434,\n",
       "          0.2235, -0.4955, -0.2107, -0.0322, -0.2773,  0.1429,  0.2485,  0.0200,\n",
       "          0.1219, -0.9912,  1.0791,  0.1974]])"
      ]
     },
     "execution_count": 299,
     "metadata": {},
     "output_type": "execute_result"
    }
   ],
   "source": [
    "labels"
   ]
  },
  {
   "cell_type": "code",
   "execution_count": 301,
   "id": "f0d526b1-cc15-4254-bf7b-60c1b8397e2a",
   "metadata": {},
   "outputs": [
    {
     "data": {
      "text/plain": [
       "tensor([[0., 1., 0., 1., 0., 1., 1., 1., 1., 1., 1., 0., 0., 1., 0., 1., 1., 0.,\n",
       "         1., 0., 0., 0., 1., 1., 1., 1., 0., 1., 1., 1., 1., 0., 1., 0., 1., 0.,\n",
       "         1., 1., 1., 1., 1., 1., 0., 0., 0., 1., 1., 1., 1., 0., 1., 1., 0., 0.,\n",
       "         1., 1., 1., 0., 1., 1., 1., 0., 0., 1., 1., 1., 0., 1., 1., 1., 0., 1.,\n",
       "         0., 1., 0., 1., 1., 0., 1., 0., 0., 1., 0., 0., 0., 1., 0., 1., 0., 0.,\n",
       "         0., 0., 0., 1., 0., 1., 1., 1., 0., 1.]])"
      ]
     },
     "execution_count": 301,
     "metadata": {},
     "output_type": "execute_result"
    }
   ],
   "source": [
    "predicted"
   ]
  },
  {
   "cell_type": "code",
   "execution_count": 293,
   "id": "030e5088-a46a-4eee-beaf-216f42eb3c34",
   "metadata": {},
   "outputs": [
    {
     "data": {
      "text/plain": [
       "BCELoss()"
      ]
     },
     "execution_count": 293,
     "metadata": {},
     "output_type": "execute_result"
    }
   ],
   "source": [
    "loss_fn"
   ]
  },
  {
   "cell_type": "code",
   "execution_count": 267,
   "id": "c4347aca-620c-43dc-b717-10ca02de2fd4",
   "metadata": {},
   "outputs": [
    {
     "data": {
      "text/plain": [
       "torch.Size([1, 100])"
      ]
     },
     "execution_count": 267,
     "metadata": {},
     "output_type": "execute_result"
    }
   ],
   "source": [
    "target_embeddings.shape"
   ]
  },
  {
   "cell_type": "code",
   "execution_count": 177,
   "id": "1395bbb6-e470-4503-8692-a41964fb492d",
   "metadata": {
    "scrolled": true
   },
   "outputs": [
    {
     "data": {
      "text/plain": [
       "(100,)"
      ]
     },
     "execution_count": 177,
     "metadata": {},
     "output_type": "execute_result"
    }
   ],
   "source": [
    "dataset[0][0].shape"
   ]
  },
  {
   "cell_type": "code",
   "execution_count": null,
   "id": "7beed1f0-9b85-4121-801f-b8217996f87f",
   "metadata": {},
   "outputs": [],
   "source": [
    "# Task 5: Evaluate the model\n",
    "# Evaluate the trained model on a validation set.\n",
    "# Use metrics such as precision, recall, and F1-score."
   ]
  },
  {
   "cell_type": "code",
   "execution_count": null,
   "id": "df935c85-b28c-4b88-9d14-9104095272d9",
   "metadata": {},
   "outputs": [],
   "source": [
    "# Example code to evaluate the model:\n",
    "# with torch.no_grad():\n",
    "#     # Predict on validation data and calculate metrics\n",
    "#     pass\n",
    "\n",
    "# Optional: Experiment with hyperparameters or model architecture to improve performance.\n",
    "# Examples: Try different window sizes, embedding dimensions, or additional layers in the model."
   ]
  },
  {
   "cell_type": "markdown",
   "id": "a1150845-aa73-46b8-a0e1-b6bc8bb4a164",
   "metadata": {},
   "source": [
    "#### Difficulties Encountered\n",
    "- One of the main difficulties was the technical issue with TorchText and Python version compatibility. This required a shift in strategy to use Kaggle and Pandas for data loading, which was not the initial plan.\n",
    "- Problem of datas that had different shape\n",
    "- Problem related to keras : in the function to fit the model, we are using sequential model and it says sequential has no outputs yet. Therefore, we tried to look for the issue on stackoverflow and github but we did not get response so we continued to debug it.\n",
    "\n",
    "#### Steps taken to alleviate difficulties\n",
    "To address the TorchText and Python version compatibility issue, we opted to use Kaggle to directly download the dataset and then import it into Pandas for preprocessing. This change in strategy allowed us to bypass the initial dependency from TorchText. For the challenge of data with varying shapes, I implemented data preprocessing techniques such as padding and truncation to normalize the input data, ensuring that all sequences were of equal length and suitable for model training. The website stack helped also while we were facing errors.\n",
    "\n",
    "#### General description of what you did, explain how you understood the task and what you did to solve it in general language, no code.\n",
    "For this task, we built a model that could classify the sentiment of individual words based on the sentiment of the sentences they appear in. To do so, we first prepared the data by tokenizing the text into words and sentences, and then padded the sentences to a uniform length to standardize the input for the model. Then, we developed a neural network model designed to process sequences of words and learn the contextual relationships that influence word sentiment. The model was trained on the IMDb dataset, using the sentence-level sentiment labels to teach it to classify words as positive, negative, or neutral. After training, the model was evaluated to assess its ability to accurately classify word sentiments in new sentences.\n",
    "\n",
    "#### Potential limitations of our approach, what could be issues, how could this be hard on different data or with slightly different conditions\n",
    "- **Data Bias**: The IMDb dataset may contain biases that could affect the model's performance on different types of data or under slightly different conditions.\n",
    "- **Context Length**: The model might struggle with longer contexts or sentences where the relationship between words and sentiment is more complex.\n",
    "- **Vocabulary Size**: Limitations in the model's vocabulary size could lead to misclassifications of words that are not well-represented in the training data.\n",
    "\n",
    "#### Extensions and Future Work\n",
    "An interesting extension of this work could involve exploring different neural network architectures, such as transformers, which are known for their ability to handle long-range dependencies in text. Additionally, incorporating multimodal data, such as movie scenes or audio, could provide richer context for sentiment analysis. This approach could also be extended to detect hate speech or discriminatory comments on social media platforms more effectively.\n"
   ]
  },
  {
   "cell_type": "code",
   "execution_count": null,
   "id": "f9b95bdc-1e35-4401-8887-f75562938879",
   "metadata": {},
   "outputs": [],
   "source": []
  }
 ],
 "metadata": {
  "kernelspec": {
   "display_name": "Python 3 (ipykernel)",
   "language": "python",
   "name": "python3"
  },
  "language_info": {
   "codemirror_mode": {
    "name": "ipython",
    "version": 3
   },
   "file_extension": ".py",
   "mimetype": "text/x-python",
   "name": "python",
   "nbconvert_exporter": "python",
   "pygments_lexer": "ipython3",
   "version": "3.12.4"
  }
 },
 "nbformat": 4,
 "nbformat_minor": 5
}
